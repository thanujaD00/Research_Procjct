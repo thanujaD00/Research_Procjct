{
 "cells": [
  {
   "cell_type": "code",
   "execution_count": 887,
   "metadata": {},
   "outputs": [],
   "source": [
    "import pandas as pd\n",
    "from sklearn.model_selection import train_test_split\n",
    "from sklearn.tree import DecisionTreeRegressor\n",
    "from sklearn.ensemble import RandomForestRegressor\n",
    "from sklearn.ensemble import GradientBoostingRegressor\n",
    "from sklearn.metrics import mean_absolute_error, r2_score, mean_squared_error\n",
    "import numpy as np\n",
    "import joblib"
   ]
  },
  {
   "cell_type": "code",
   "execution_count": 888,
   "metadata": {},
   "outputs": [],
   "source": [
    "# Load the dataset\n",
    "df = pd.read_csv('copra_drying_dataset_with_oil_yield_3.csv')"
   ]
  },
  {
   "cell_type": "code",
   "execution_count": 889,
   "metadata": {},
   "outputs": [
    {
     "data": {
      "text/html": [
       "<div>\n",
       "<style scoped>\n",
       "    .dataframe tbody tr th:only-of-type {\n",
       "        vertical-align: middle;\n",
       "    }\n",
       "\n",
       "    .dataframe tbody tr th {\n",
       "        vertical-align: top;\n",
       "    }\n",
       "\n",
       "    .dataframe thead th {\n",
       "        text-align: right;\n",
       "    }\n",
       "</style>\n",
       "<table border=\"1\" class=\"dataframe\">\n",
       "  <thead>\n",
       "    <tr style=\"text-align: right;\">\n",
       "      <th></th>\n",
       "      <th>Maturity Stage (Days)</th>\n",
       "      <th>Initial Moisture Level (%)</th>\n",
       "      <th>Temperature (°C)</th>\n",
       "      <th>Humidity (%)</th>\n",
       "      <th>Drying Time (hrs)</th>\n",
       "      <th>Estimated Oil Yield (kg)</th>\n",
       "    </tr>\n",
       "  </thead>\n",
       "  <tbody>\n",
       "    <tr>\n",
       "      <th>0</th>\n",
       "      <td>83</td>\n",
       "      <td>26.544751</td>\n",
       "      <td>27.104487</td>\n",
       "      <td>68.849233</td>\n",
       "      <td>14.86</td>\n",
       "      <td>5.44</td>\n",
       "    </tr>\n",
       "    <tr>\n",
       "      <th>1</th>\n",
       "      <td>127</td>\n",
       "      <td>52.819448</td>\n",
       "      <td>31.227636</td>\n",
       "      <td>45.023493</td>\n",
       "      <td>19.84</td>\n",
       "      <td>4.56</td>\n",
       "    </tr>\n",
       "  </tbody>\n",
       "</table>\n",
       "</div>"
      ],
      "text/plain": [
       "   Maturity Stage (Days)  Initial Moisture Level (%)  Temperature (°C)  \\\n",
       "0                     83                   26.544751         27.104487   \n",
       "1                    127                   52.819448         31.227636   \n",
       "\n",
       "   Humidity (%)  Drying Time (hrs)  Estimated Oil Yield (kg)  \n",
       "0     68.849233              14.86                      5.44  \n",
       "1     45.023493              19.84                      4.56  "
      ]
     },
     "execution_count": 889,
     "metadata": {},
     "output_type": "execute_result"
    }
   ],
   "source": [
    "df.head(2)"
   ]
  },
  {
   "cell_type": "code",
   "execution_count": 890,
   "metadata": {},
   "outputs": [],
   "source": [
    "X = df[['Initial Moisture Level (%)', 'Temperature (°C)', 'Humidity (%)']]\n",
    "y = df['Drying Time (hrs)']"
   ]
  },
  {
   "cell_type": "code",
   "execution_count": 891,
   "metadata": {},
   "outputs": [],
   "source": [
    "X_train, X_test, y_train, y_test = train_test_split(X, y, test_size=0.2, random_state=42)"
   ]
  },
  {
   "cell_type": "code",
   "execution_count": 892,
   "metadata": {},
   "outputs": [],
   "source": [
    "# Define accuracy calculation function\n",
    "def calculate_accuracy(y_true, y_pred):\n",
    "    mse = mean_squared_error(y_true, y_pred)\n",
    "    rmse = np.sqrt(mse)\n",
    "    accuracy = 100 * (1 - rmse / np.mean(y_true))\n",
    "    return max(0, accuracy)"
   ]
  },
  {
   "cell_type": "code",
   "execution_count": 893,
   "metadata": {},
   "outputs": [],
   "source": [
    "# Train Decision Tree Regressor\n",
    "dt_model = DecisionTreeRegressor(random_state=42)\n",
    "dt_model.fit(X_train, y_train)\n",
    "dt_y_pred = dt_model.predict(X_test)\n",
    "dt_mae = mean_absolute_error(y_test, dt_y_pred)\n",
    "dt_r2 = r2_score(y_test, dt_y_pred)\n",
    "dt_accuracy = calculate_accuracy(y_test, dt_y_pred)"
   ]
  },
  {
   "cell_type": "code",
   "execution_count": 894,
   "metadata": {},
   "outputs": [],
   "source": [
    "# Train Random Forest Regressor\n",
    "rf_model = RandomForestRegressor(n_estimators=100, random_state=42)\n",
    "rf_model.fit(X_train, y_train)\n",
    "rf_y_pred = rf_model.predict(X_test)\n",
    "rf_mae = mean_absolute_error(y_test, rf_y_pred)\n",
    "rf_r2 = r2_score(y_test, rf_y_pred)\n",
    "rf_accuracy = calculate_accuracy(y_test, rf_y_pred)"
   ]
  },
  {
   "cell_type": "code",
   "execution_count": 895,
   "metadata": {},
   "outputs": [],
   "source": [
    "# Train Gradient Boosting Regressor\n",
    "gb_model = GradientBoostingRegressor(n_estimators=100, random_state=42)\n",
    "gb_model.fit(X_train, y_train)\n",
    "gb_y_pred = gb_model.predict(X_test)\n",
    "gb_mae = mean_absolute_error(y_test, gb_y_pred)\n",
    "gb_r2 = r2_score(y_test, gb_y_pred)\n",
    "gb_accuracy = calculate_accuracy(y_test, gb_y_pred)"
   ]
  },
  {
   "cell_type": "code",
   "execution_count": 896,
   "metadata": {},
   "outputs": [],
   "source": [
    "# Determine the best model based on weighted scores\n",
    "alpha = 0.7  # Weight for R²\n",
    "beta = 0.3   # Weight for MAE\n",
    "dt_score = alpha * dt_r2 - beta * dt_mae\n",
    "rf_score = alpha * rf_r2 - beta * rf_mae\n",
    "gb_score = alpha * gb_r2 - beta * gb_mae\n",
    "\n",
    "# Compare all models based on the weighted scores\n",
    "if gb_score > rf_score and gb_score > dt_score:\n",
    "    best_model = gb_model\n",
    "    best_model_name = \"Gradient Boosting\"\n",
    "    reason = f\"Weighted Score: {gb_score:.2f} (Higher than Decision Tree and Random Forest)\"\n",
    "elif rf_score > dt_score:\n",
    "    best_model = rf_model\n",
    "    best_model_name = \"Random Forest\"\n",
    "    reason = f\"Weighted Score: {rf_score:.2f} (Higher than Decision Tree)\"\n",
    "else:\n",
    "    best_model = dt_model\n",
    "    best_model_name = \"Decision Tree\"\n",
    "    reason = f\"Weighted Score: {dt_score:.2f} (Higher than Random Forest)\"\n"
   ]
  },
  {
   "cell_type": "code",
   "execution_count": 897,
   "metadata": {},
   "outputs": [
    {
     "name": "stdout",
     "output_type": "stream",
     "text": [
      "Random Forest MAE: 1.0884001754385968\n",
      "Random Forest R²: 0.9607221244704074\n",
      "Random Forest Accuracy: 91.92%\n",
      "\n",
      "Decision Tree MAE: 1.4672280701754385\n",
      "Decision Tree R²: 0.9268399972402159\n",
      "Decision Tree Accuracy: 88.97%\n",
      "\n",
      "Gradient Boosting MAE: 1.0627850303473962\n",
      "Gradient Boosting R²: 0.9640261148414051\n",
      "Gradient Boosting Accuracy: 92.27%\n",
      "\n",
      "Best Model: Gradient Boosting\n"
     ]
    }
   ],
   "source": [
    "# Print model performance for all models\n",
    "print(f\"Random Forest MAE: {rf_mae}\")\n",
    "print(f\"Random Forest R²: {rf_r2}\")\n",
    "print(f\"Random Forest Accuracy: {rf_accuracy:.2f}%\")\n",
    "print(f\"\")\n",
    "\n",
    "print(f\"Decision Tree MAE: {dt_mae}\")\n",
    "print(f\"Decision Tree R²: {dt_r2}\")\n",
    "print(f\"Decision Tree Accuracy: {dt_accuracy:.2f}%\")\n",
    "print(f\"\")\n",
    "print(f\"Gradient Boosting MAE: {gb_mae}\")\n",
    "print(f\"Gradient Boosting R²: {gb_r2}\")\n",
    "print(f\"Gradient Boosting Accuracy: {gb_accuracy:.2f}%\")\n",
    "print(f\"\")\n",
    "\n",
    "print(f\"Best Model: {best_model_name}\")\n",
    "#print(f\"Reason: {reason}\")"
   ]
  },
  {
   "cell_type": "code",
   "execution_count": 898,
   "metadata": {},
   "outputs": [
    {
     "data": {
      "text/plain": [
       "['best_drying_time_model.pkl']"
      ]
     },
     "execution_count": 898,
     "metadata": {},
     "output_type": "execute_result"
    }
   ],
   "source": [
    "# Save the best model\n",
    "joblib.dump(best_model, 'best_drying_time_model.pkl')\n"
   ]
  },
  {
   "cell_type": "code",
   "execution_count": 899,
   "metadata": {},
   "outputs": [
    {
     "name": "stdout",
     "output_type": "stream",
     "text": [
      "Predicted Drying Time (hrs): 26.05\n"
     ]
    }
   ],
   "source": [
    "# Load the best model for prediction\n",
    "loaded_model = joblib.load('best_drying_time_model.pkl')\n",
    "\n",
    "# Example new input data (as a DataFrame)\n",
    "new_data = pd.DataFrame({\n",
    "    'Initial Moisture Level (%)': [50],\n",
    "    'Temperature (°C)': [25],\n",
    "    'Humidity (%)': [50]\n",
    "})\n",
    "\n",
    "# Predict the drying time for new data\n",
    "predicted_drying_time = loaded_model.predict(new_data)\n",
    "print(\"Predicted Drying Time (hrs):\", round(predicted_drying_time[0], 2))\n"
   ]
  },
  {
   "cell_type": "code",
   "execution_count": 900,
   "metadata": {},
   "outputs": [
    {
     "data": {
      "image/png": "[encoded data removed]",
      "text/plain": [
       "<Figure size 1200x800 with 1 Axes>"
      ]
     },
     "metadata": {},
     "output_type": "display_data"
    }
   ],
   "source": [
    "import matplotlib.pyplot as plt\n",
    "# Determine the best model\n",
    "if gb_score > rf_score and gb_score > dt_score:\n",
    "    best_model = \"Gradient Boosting\"\n",
    "    reason = (\n",
    "        f\"Weighted Score: {gb_score:.2f} \"\n",
    "        f\"Accuracy: {gb_accuracy:.2f}% \"\n",
    "    )\n",
    "elif rf_score > dt_score:\n",
    "    best_model = \"Random Forest\"\n",
    "    reason = (\n",
    "        f\"Weighted Score: {rf_score:.2f} (Higher than Decision Tree),\\n \"\n",
    "        f\"Accuracy: {rf_accuracy:.2f}% (Higher than Decision Tree: {dt_accuracy:.2f}%)\"\n",
    "    )\n",
    "else:\n",
    "    best_model = \"Decision Tree\"\n",
    "    reason = (\n",
    "        f\"Weighted Score: {dt_score:.2f}\\n (Higher than Random Forest), \\n\"\n",
    "        f\"Accuracy: {dt_accuracy:.2f}%\\ (Higher than Random Forest: {rf_accuracy:.2f}%)\"\n",
    "    )\n",
    "\n",
    "# Data for the models\n",
    "labels = ['Decision Tree', 'Random Forest', 'Gradient Boosting']\n",
    "mae_values = [dt_mae, rf_mae, gb_mae]\n",
    "r2_values = [dt_r2, rf_r2, gb_r2]\n",
    "\n",
    "x = np.arange(len(labels))  # Label locations\n",
    "width = 0.35  # Bar width\n",
    "\n",
    "# Plot the graph\n",
    "fig, ax = plt.subplots(figsize=(12, 8))\n",
    "bar1 = ax.bar(x - width/2, mae_values, width, label='Mean Absolute Error (MAE)', color='orange', edgecolor='black')\n",
    "bar2 = ax.bar(x + width/2, r2_values, width, label='R² Score', color='blue', edgecolor='black')\n",
    "\n",
    "# Add labels, title, and grid\n",
    "ax.set_xlabel('Models', fontsize=14, fontweight='bold')\n",
    "ax.set_ylabel('Values', fontsize=14, fontweight='bold')\n",
    "ax.set_title('Model Performance Comparison', fontsize=16, fontweight='bold', color='darkblue')\n",
    "ax.set_xticks(x)\n",
    "ax.set_xticklabels(labels, fontsize=12)\n",
    "ax.legend(fontsize=12)\n",
    "ax.grid(axis='y', linestyle='--', alpha=0.7)\n",
    "\n",
    "# Annotate bars with values\n",
    "for bar in bar1:\n",
    "    height = bar.get_height()\n",
    "    ax.annotate(f'{height:.2f}', xy=(bar.get_x() + bar.get_width() / 2, height),\n",
    "                xytext=(0, 5), textcoords=\"offset points\", ha='center', va='bottom', fontsize=10, color='black')\n",
    "\n",
    "for bar in bar2:\n",
    "    height = bar.get_height()\n",
    "    ax.annotate(f'{height:.2f}', xy=(bar.get_x() + bar.get_width() / 2, height),\n",
    "                xytext=(0, 5), textcoords=\"offset points\", ha='center', va='bottom', fontsize=10, color='black')\n",
    "\n",
    "# Highlight the best model with an arrow and text\n",
    "best_model_index = labels.index(best_model)\n",
    "best_model_x = x[best_model_index]  # X-coordinate for the best model\n",
    "best_model_y = max(mae_values[best_model_index], r2_values[best_model_index]) + 0.1  # Y-coordinate above the highest bar\n",
    "\n",
    "ax.annotate(f\"Best Model:\\n{best_model}\\nReason:\\n{reason}\", \n",
    "            xy=(best_model_x, best_model_y),\n",
    "            xytext=(best_model_x + 0.5, best_model_y + 1),\n",
    "            fontsize=12, color='green', fontweight='bold',\n",
    "            arrowprops=dict(facecolor='green', shrink=0.05, edgecolor='black'))\n",
    "\n",
    "# Add additional styling\n",
    "plt.xticks(fontsize=12)\n",
    "plt.yticks(fontsize=12)\n",
    "plt.tight_layout()\n",
    "plt.show()"
   ]
  },
  {
   "cell_type": "markdown",
   "metadata": {},
   "source": [
    "For Oil yeld"
   ]
  },
  {
   "cell_type": "code",
   "execution_count": 901,
   "metadata": {},
   "outputs": [],
   "source": [
    "# Import libraries\n",
    "import pandas as pd\n",
    "from sklearn.model_selection import train_test_split\n",
    "from sklearn.ensemble import RandomForestRegressor, GradientBoostingRegressor\n",
    "from sklearn.svm import SVR\n",
    "from sklearn.metrics import mean_absolute_error, r2_score\n",
    "import joblib"
   ]
  },
  {
   "cell_type": "code",
   "execution_count": 902,
   "metadata": {},
   "outputs": [],
   "source": [
    "#df.head(2)"
   ]
  },
  {
   "cell_type": "code",
   "execution_count": 903,
   "metadata": {},
   "outputs": [],
   "source": [
    "X = df[['Initial Moisture Level (%)', 'Temperature (°C)', 'Humidity (%)','Drying Time (hrs)']]\n",
    "y = df['Estimated Oil Yield (kg)']"
   ]
  },
  {
   "cell_type": "code",
   "execution_count": 904,
   "metadata": {},
   "outputs": [],
   "source": [
    "X_train, X_test, y_train, y_test = train_test_split(X, y, test_size=0.2, random_state=42)"
   ]
  },
  {
   "cell_type": "code",
   "execution_count": 905,
   "metadata": {},
   "outputs": [],
   "source": [
    "# Initialize models\n",
    "rf_model = RandomForestRegressor(n_estimators=100, random_state=42)\n",
    "gb_model = GradientBoostingRegressor(n_estimators=100, random_state=42)\n",
    "svr_model = SVR(kernel='rbf')"
   ]
  },
  {
   "cell_type": "code",
   "execution_count": 906,
   "metadata": {},
   "outputs": [],
   "source": [
    "# Train the Random Forest model\n",
    "rf_model.fit(X_train, y_train)\n",
    "rf_y_pred = rf_model.predict(X_test)"
   ]
  },
  {
   "cell_type": "code",
   "execution_count": 907,
   "metadata": {},
   "outputs": [],
   "source": [
    "# Train the Gradient Boosting model\n",
    "gb_model.fit(X_train, y_train)\n",
    "gb_y_pred = gb_model.predict(X_test)"
   ]
  },
  {
   "cell_type": "code",
   "execution_count": 908,
   "metadata": {},
   "outputs": [],
   "source": [
    "# Train the Support Vector Regression model\n",
    "svr_model.fit(X_train, y_train)\n",
    "svr_y_pred = svr_model.predict(X_test)"
   ]
  },
  {
   "cell_type": "code",
   "execution_count": 909,
   "metadata": {},
   "outputs": [],
   "source": [
    "# Function to calculate accuracy (RMSE and Accuracy)\n",
    "def calculate_accuracy(y_true, y_pred):\n",
    "    mse = mean_squared_error(y_true, y_pred)\n",
    "    rmse = np.sqrt(mse)\n",
    "    accuracy = 100 * (1 - rmse / np.mean(y_true))\n",
    "    return max(0, accuracy)"
   ]
  },
  {
   "cell_type": "code",
   "execution_count": 910,
   "metadata": {},
   "outputs": [],
   "source": [
    "# Evaluate the models\n",
    "rf_mae = mean_absolute_error(y_test, rf_y_pred)\n",
    "rf_r2 = r2_score(y_test, rf_y_pred)\n",
    "rf_accuracy = calculate_accuracy(y_test, rf_y_pred)\n",
    "\n",
    "gb_mae = mean_absolute_error(y_test, gb_y_pred)\n",
    "gb_r2 = r2_score(y_test, gb_y_pred)\n",
    "gb_accuracy = calculate_accuracy(y_test, gb_y_pred)\n",
    "\n",
    "svr_mae = mean_absolute_error(y_test, svr_y_pred)\n",
    "svr_r2 = r2_score(y_test, svr_y_pred)\n",
    "svr_accuracy = calculate_accuracy(y_test, svr_y_pred)"
   ]
  },
  {
   "cell_type": "code",
   "execution_count": 911,
   "metadata": {},
   "outputs": [],
   "source": [
    "# Select the best model based on the R² score\n",
    "if gb_r2 > rf_r2 and gb_r2 > svr_r2:\n",
    "    best_model = gb_model\n",
    "    best_model_name = \"Gradient Boosting Regressor\"\n",
    "    best_mae = gb_mae\n",
    "    best_r2 = gb_r2\n",
    "    best_accuracy = gb_accuracy\n",
    "elif rf_r2 > gb_r2 and rf_r2 > svr_r2:\n",
    "    best_model = rf_model\n",
    "    best_model_name = \"Random Forest Regressor\"\n",
    "    best_mae = rf_mae\n",
    "    best_r2 = rf_r2\n",
    "    best_accuracy = rf_accuracy\n",
    "else:\n",
    "    best_model = svr_model\n",
    "    best_model_name = \"Support Vector Regression\"\n",
    "    best_mae = svr_mae\n",
    "    best_r2 = svr_r2\n",
    "    best_accuracy = svr_accuracy"
   ]
  },
  {
   "cell_type": "code",
   "execution_count": 912,
   "metadata": {},
   "outputs": [
    {
     "name": "stdout",
     "output_type": "stream",
     "text": [
      "Random Forest \n",
      "MAE: 0.2149256140350878 \n",
      "R² Score: 0.1850020990084411 \n",
      "Accuracy: 94.77694789170322 %\n",
      "\n",
      "Gradient Boosting \n",
      "MAE: 0.22898734903080034 \n",
      "R² Score: 0.12691242276303982 \n",
      "Accuracy: 94.59401273893572 %\n",
      "\n",
      "Support Vector Regression \n",
      "MAE: 0.19049263209374537 \n",
      "R² Score: 0.3475570028531828 \n",
      "Accuracy: 95.3267673683246 %\n",
      "\n",
      "Best Model: Support Vector Regression\n",
      "Reason: Higher R² Score (0.35) with MAE of 0.19 and Accuracy of 95.33%\n"
     ]
    }
   ],
   "source": [
    "# Print the model evaluation results with accuracy\n",
    "print(\"Random Forest \\nMAE:\", rf_mae, \"\\nR² Score:\", rf_r2, \"\\nAccuracy:\", rf_accuracy, \"%\")\n",
    "print(\"\\nGradient Boosting \\nMAE:\", gb_mae, \"\\nR² Score:\", gb_r2, \"\\nAccuracy:\", gb_accuracy, \"%\")\n",
    "print(\"\\nSupport Vector Regression \\nMAE:\", svr_mae, \"\\nR² Score:\", svr_r2, \"\\nAccuracy:\", svr_accuracy, \"%\")\n",
    "\n",
    "\n",
    "# Print the best model\n",
    "print(f\"\\nBest Model: {best_model_name}\")\n",
    "print(f\"Reason: Higher R² Score ({best_r2:.2f}) with MAE of {best_mae:.2f} and Accuracy of {best_accuracy:.2f}%\")\n"
   ]
  },
  {
   "cell_type": "code",
   "execution_count": 913,
   "metadata": {},
   "outputs": [
    {
     "data": {
      "text/plain": [
       "['best_oil_yield_predictor.pkl']"
      ]
     },
     "execution_count": 913,
     "metadata": {},
     "output_type": "execute_result"
    }
   ],
   "source": [
    "import joblib\n",
    "\n",
    "# Save the best model\n",
    "joblib.dump(best_model, 'best_oil_yield_predictor.pkl')\n"
   ]
  },
  {
   "cell_type": "code",
   "execution_count": 914,
   "metadata": {},
   "outputs": [
    {
     "name": "stdout",
     "output_type": "stream",
     "text": [
      "Predicted Oil Yield (kg): 5.484263801721542\n"
     ]
    }
   ],
   "source": [
    "# Load the best model\n",
    "loaded_model = joblib.load('best_oil_yield_predictor.pkl')\n",
    "\n",
    "# Example new input data (as a DataFrame)\n",
    "new_data = pd.DataFrame({\n",
    "    'Initial Moisture Level (%)': [40],\n",
    "    'Temperature (°C)': [30],\n",
    "    'Humidity (%)': [50],\n",
    "    'Drying Time (hrs)':[20]\n",
    "})\n",
    "\n",
    "# Predict the oil yield for new data using the best model\n",
    "predicted_oil_yield = loaded_model.predict(new_data)\n",
    "print(\"Predicted Oil Yield (kg):\", predicted_oil_yield[0])\n"
   ]
  }
 ],
 "metadata": {
  "kernelspec": {
   "display_name": "Python 3",
   "language": "python",
   "name": "python3"
  },
  "language_info": {
   "codemirror_mode": {
    "name": "ipython",
    "version": 3
   },
   "file_extension": ".py",
   "mimetype": "text/x-python",
   "name": "python",
   "nbconvert_exporter": "python",
   "pygments_lexer": "ipython3",
   "version": "3.11.2"
  },
  "vscode": {
   "interpreter": {
    "hash": "ff4b1fca65a764b45acb559e482afe389d289dd599b9f8c5fd12ff5c2ea46a65"
   }
  }
 },
 "nbformat": 4,
 "nbformat_minor": 2
}
