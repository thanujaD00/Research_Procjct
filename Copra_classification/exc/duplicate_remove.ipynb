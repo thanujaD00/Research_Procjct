{
 "cells": [
  {
   "cell_type": "code",
   "execution_count": 17,
   "id": "76979a7a-dfa3-4ca1-a2a1-c1521c21ddcd",
   "metadata": {},
   "outputs": [
    {
     "name": "stdout",
     "output_type": "stream",
     "text": [
      "Defaulting to user installation because normal site-packages is not writeable\n",
      "Requirement already satisfied: imagehash in c:\\users\\asus vivobook\\appdata\\roaming\\python\\python312\\site-packages (4.3.1)\n",
      "Requirement already satisfied: PyWavelets in c:\\programdata\\anaconda3\\lib\\site-packages (from imagehash) (1.5.0)\n",
      "Requirement already satisfied: numpy in c:\\programdata\\anaconda3\\lib\\site-packages (from imagehash) (1.26.4)\n",
      "Requirement already satisfied: pillow in c:\\programdata\\anaconda3\\lib\\site-packages (from imagehash) (10.3.0)\n",
      "Requirement already satisfied: scipy in c:\\programdata\\anaconda3\\lib\\site-packages (from imagehash) (1.13.1)\n"
     ]
    }
   ],
   "source": [
    "!pip install imagehash\n"
   ]
  },
  {
   "cell_type": "code",
   "execution_count": 3,
   "id": "0bfb7f38-3f11-45c8-aea3-621792ab3cd1",
   "metadata": {},
   "outputs": [
    {
     "name": "stdout",
     "output_type": "stream",
     "text": [
      "Duplicate Removal Results:\n",
      "Total files scanned: 6164\n",
      "Duplicates removed: 0\n",
      "\n",
      "Removed files:\n"
     ]
    }
   ],
   "source": [
    "import os\n",
    "import hashlib\n",
    "from PIL import Image\n",
    "\n",
    "def remove_duplicate_images(directory):\n",
    "    \"\"\"\n",
    "    Remove duplicate images from a directory.\n",
    "    \n",
    "    Parameters:\n",
    "    -----------\n",
    "    directory : str\n",
    "        Path to the directory containing images\n",
    "    \n",
    "    Returns:\n",
    "    --------\n",
    "    dict\n",
    "        Information about duplicates removed\n",
    "    \"\"\"\n",
    "    # Dictionary to store image hashes\n",
    "    seen_hashes = {}\n",
    "    duplicates_removed = []\n",
    "    \n",
    "    # Supported image extensions\n",
    "    image_extensions = ['.png', '.jpg', '.jpeg', '.gif', '.bmp', '.tiff']\n",
    "    \n",
    "    # Iterate through all files in the directory\n",
    "    for filename in os.listdir(directory):\n",
    "        # Full file path\n",
    "        filepath = os.path.join(directory, filename)\n",
    "        \n",
    "        # Check if it's an image file\n",
    "        if os.path.isfile(filepath) and any(filename.lower().endswith(ext) for ext in image_extensions):\n",
    "            # Compute file hash\n",
    "            with open(filepath, 'rb') as f:\n",
    "                file_hash = hashlib.md5(f.read()).hexdigest()\n",
    "            \n",
    "            # Check if this hash has been seen before\n",
    "            if file_hash in seen_hashes:\n",
    "                # Remove the duplicate file\n",
    "                os.remove(filepath)\n",
    "                duplicates_removed.append(filename)\n",
    "            else:\n",
    "                # Store the hash of the first occurrence\n",
    "                seen_hashes[file_hash] = filename\n",
    "    \n",
    "    # Prepare and return results\n",
    "    return {\n",
    "        'total_files_scanned': len(os.listdir(directory)),\n",
    "        'duplicates_removed': len(duplicates_removed),\n",
    "        'removed_files': duplicates_removed\n",
    "    }\n",
    "\n",
    "# Specify the directory path\n",
    "dataset_path = r'E:\\Research\\DataSet\\copra'\n",
    "\n",
    "# Run the duplicate removal\n",
    "results = remove_duplicate_images(dataset_path)\n",
    "\n",
    "# Print the results\n",
    "print(\"Duplicate Removal Results:\")\n",
    "print(f\"Total files scanned: {results['total_files_scanned']}\")\n",
    "print(f\"Duplicates removed: {results['duplicates_removed']}\")\n",
    "print(\"\\nRemoved files:\")\n",
    "for file in results['removed_files']:\n",
    "    print(file)"
   ]
  },
  {
   "cell_type": "code",
   "execution_count": null,
   "id": "7c6092f1-c52a-4828-bb98-2363b7cf011b",
   "metadata": {},
   "outputs": [],
   "source": []
  }
 ],
 "metadata": {
  "kernelspec": {
   "display_name": "Python 3 (ipykernel)",
   "language": "python",
   "name": "python3"
  },
  "language_info": {
   "codemirror_mode": {
    "name": "ipython",
    "version": 3
   },
   "file_extension": ".py",
   "mimetype": "text/x-python",
   "name": "python",
   "nbconvert_exporter": "python",
   "pygments_lexer": "ipython3",
   "version": "3.12.4"
  }
 },
 "nbformat": 4,
 "nbformat_minor": 5
}
