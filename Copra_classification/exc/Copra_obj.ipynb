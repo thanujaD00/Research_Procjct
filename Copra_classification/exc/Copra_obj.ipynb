{
 "cells": [
  {
   "cell_type": "code",
   "execution_count": 1,
   "id": "50024ec4-4ba9-4aed-8c26-b29b9be80f84",
   "metadata": {},
   "outputs": [
    {
     "name": "stdout",
     "output_type": "stream",
     "text": [
      "Total images: 0\n",
      "Training set: 0 images\n",
      "Validation set: 0 images\n",
      "Test set: 0 images\n",
      "Images have been successfully divided and copied.\n"
     ]
    }
   ],
   "source": [
    "import os\n",
    "import random\n",
    "import shutil\n",
    "\n",
    "# Paths\n",
    "base_path = r\"E:\\Research\\dev\\Copra_object\"\n",
    "non_copra_path = os.path.join(base_path, \"non-copra\")\n",
    "output_path = os.path.join(base_path, \"non-copra-split\")\n",
    "\n",
    "# Ensure output directories exist\n",
    "train_dir = os.path.join(output_path, \"train\")\n",
    "valid_dir = os.path.join(output_path, \"valid\")\n",
    "test_dir = os.path.join(output_path, \"test\")\n",
    "os.makedirs(train_dir, exist_ok=True)\n",
    "os.makedirs(valid_dir, exist_ok=True)\n",
    "os.makedirs(test_dir, exist_ok=True)\n",
    "\n",
    "# Fetch all image files in the non-copra folder\n",
    "image_files = [f for f in os.listdir(non_copra_path) if os.path.isfile(os.path.join(non_copra_path, f))]\n",
    "random.shuffle(image_files)  # Shuffle the files for randomness\n",
    "\n",
    "# Calculate split sizes\n",
    "total_images = len(image_files)\n",
    "train_size = int(0.7 * total_images)  # 70% for training\n",
    "valid_size = int(0.2 * total_images)  # 20% for validation\n",
    "test_size = total_images - train_size - valid_size  # Remaining 10% for testing\n",
    "\n",
    "# Assign files to respective sets\n",
    "train_files = image_files[:train_size]\n",
    "valid_files = image_files[train_size:train_size + valid_size]\n",
    "test_files = image_files[train_size + valid_size:]\n",
    "\n",
    "# Function to copy files to their destination folders\n",
    "def copy_files(file_list, destination):\n",
    "    for file_name in file_list:\n",
    "        src_path = os.path.join(non_copra_path, file_name)\n",
    "        dst_path = os.path.join(destination, file_name)\n",
    "        shutil.copy(src_path, dst_path)\n",
    "\n",
    "# Copy files to respective folders\n",
    "copy_files(train_files, train_dir)\n",
    "copy_files(valid_files, valid_dir)\n",
    "copy_files(test_files, test_dir)\n",
    "\n",
    "# Summary\n",
    "print(f\"Total images: {total_images}\")\n",
    "print(f\"Training set: {train_size} images\")\n",
    "print(f\"Validation set: {valid_size} images\")\n",
    "print(f\"Test set: {test_size} images\")\n",
    "print(\"Images have been successfully divided and copied.\")\n"
   ]
  },
  {
   "cell_type": "code",
   "execution_count": null,
   "id": "ce942b70-ea44-4c4c-bcb5-5489c71b7fb0",
   "metadata": {},
   "outputs": [],
   "source": []
  }
 ],
 "metadata": {
  "kernelspec": {
   "display_name": "Python 3 (ipykernel)",
   "language": "python",
   "name": "python3"
  },
  "language_info": {
   "codemirror_mode": {
    "name": "ipython",
    "version": 3
   },
   "file_extension": ".py",
   "mimetype": "text/x-python",
   "name": "python",
   "nbconvert_exporter": "python",
   "pygments_lexer": "ipython3",
   "version": "3.9.16"
  }
 },
 "nbformat": 4,
 "nbformat_minor": 5
}
