{
 "cells": [
  {
   "cell_type": "code",
   "execution_count": null,
   "id": "43e9453b-f810-465c-8b52-78f575c97616",
   "metadata": {},
   "outputs": [],
   "source": [
    "import os\n",
    "import numpy as np\n",
    "import matplotlib.pyplot as plt\n",
    "import tensorflow as tf\n",
    "from tensorflow.keras.preprocessing.image import ImageDataGenerator\n",
    "from tensorflow.keras import layers, models\n",
    "from tensorflow.keras.applications.vgg16 import VGG16, preprocess_input as vgg16_preprocess\n",
    "from tensorflow.keras.applications.resnet50 import ResNet50, preprocess_input as resnet50_preprocess\n",
    "from tensorflow.keras.applications.inception_v3 import InceptionV3, preprocess_input as inception_preprocess\n",
    "from tensorflow.keras.applications.mobilenet_v2 import MobileNetV2, preprocess_input as mobilenet_preprocess\n",
    "from tensorflow.keras.applications.efficientnet import EfficientNetB0, preprocess_input as efficientnet_preprocess\n",
    "from sklearn.metrics import classification_report, confusion_matrix\n",
    "from tensorflow.keras.applications import ResNet50\n",
    "from tensorflow.keras.models import Sequential\n",
    "from tensorflow.keras.layers import Dense, Dropout, Flatten, GlobalAveragePooling2D\n"
   ]
  },
  {
   "cell_type": "code",
   "execution_count": null,
   "id": "38d4d1f7-aa0d-4c9c-919e-b8823f6142d3",
   "metadata": {},
   "outputs": [],
   "source": [
    "# Dataset paths\n",
    "base_dir = r\"E:\\Research\\dev\\New_Dataset\\New DataSet_object\"\n",
    "\n",
    "# Data generators\n",
    "train_datagen = ImageDataGenerator(\n",
    "    rescale=1.0 / 255,\n",
    "    validation_split=0.3,  # 70% train, 30% test split\n",
    "    rotation_range=20,\n",
    "    width_shift_range=0.2,\n",
    "    height_shift_range=0.2,\n",
    "    shear_range=0.2,\n",
    "    zoom_range=0.2,\n",
    "    horizontal_flip=True,\n",
    "    fill_mode=\"nearest\"\n",
    ")\n",
    "\n",
    "# Train and test generators\n",
    "train_generator = train_datagen.flow_from_directory(\n",
    "    base_dir,\n",
    "    target_size=(224, 224),\n",
    "    batch_size=32,\n",
    "    class_mode=\"binary\",\n",
    "    subset=\"training\"\n",
    ")\n",
    "\n",
    "test_generator = train_datagen.flow_from_directory(\n",
    "    base_dir,\n",
    "    target_size=(224, 224),\n",
    "    batch_size=32,\n",
    "    class_mode=\"binary\",\n",
    "    subset=\"validation\",\n",
    "    shuffle=False\n",
    ")"
   ]
  },
  {
   "cell_type": "code",
   "execution_count": null,
   "id": "d7f6040e-05fb-4a3b-a426-789b077e4ba9",
   "metadata": {},
   "outputs": [],
   "source": [
    "from tensorflow.keras.callbacks import ReduceLROnPlateau\n",
    "from tensorflow.keras.optimizers import Adam\n",
    "\n",
    "def train_model(base_model, name, train_data, test_data, dropout_rate=0.3, epochs=5):\n",
    "    \"\"\"\n",
    "    Function to train a model with a specified base and evaluate performance.\n",
    "    \"\"\"\n",
    "    # Add custom layers on top of base model\n",
    "    base_model.trainable = False\n",
    "    model = models.Sequential([\n",
    "        base_model,\n",
    "        layers.Flatten(),\n",
    "        layers.Dropout(dropout_rate),\n",
    "        layers.Dense(128, activation='relu'),\n",
    "        layers.BatchNormalization(),\n",
    "        layers.Dropout(dropout_rate),\n",
    "        layers.Dense(1, activation='sigmoid')\n",
    "    ])\n",
    "\n",
    "    # Compile with a reduced learning rate\n",
    "    model.compile(optimizer=Adam(learning_rate=0.001), loss='binary_crossentropy', metrics=['accuracy'])\n",
    "\n",
    "    # Add a learning rate scheduler\n",
    "    reduce_lr = ReduceLROnPlateau(monitor='val_loss', factor=0.5, patience=5, min_lr=1e-6)\n",
    "\n",
    "    # Train the model\n",
    "    history = model.fit(\n",
    "        train_data,\n",
    "        steps_per_epoch=train_data.samples // train_data.batch_size,\n",
    "        epochs=epochs,\n",
    "        validation_data=test_data,\n",
    "        validation_steps=test_data.samples // test_data.batch_size,\n",
    "        callbacks=[reduce_lr]  # Include the learning rate scheduler\n",
    "    )\n",
    "\n",
    "    # Evaluate the model\n",
    "    test_loss, test_acc = model.evaluate(test_data, steps=test_data.samples // test_data.batch_size)\n",
    "    print(f\"{name} Test Accuracy: {test_acc}\")\n",
    "\n",
    "    # Save history for visualization\n",
    "    return model, history\n"
   ]
  },
  {
   "cell_type": "code",
   "execution_count": null,
   "id": "9868c747-77ea-4847-8e07-a7b434c15489",
   "metadata": {
    "scrolled": true
   },
   "outputs": [],
   "source": [
    "# Load pre-trained ResNet50 model\n",
    "resnet50 = ResNet50(weights='imagenet', include_top=False, input_shape=(224, 224, 3))\n",
    "resnet50_model, resnet50_history = train_model(resnet50, \"ResNet50\", train_generator, test_generator)\n",
    " "
   ]
  },
  {
   "cell_type": "code",
   "execution_count": null,
   "id": "4260d48a-96e6-453f-a76a-5a9fe4acf33a",
   "metadata": {},
   "outputs": [],
   "source": [
    "def smooth_curve(values, weight=0.8):\n",
    "    smoothed = []\n",
    "    last = values[0]\n",
    "    for value in values:\n",
    "        smoothed_value = last * weight + (1 - weight) * value\n",
    "        smoothed.append(smoothed_value)\n",
    "        last = smoothed_value\n",
    "    return smoothed\n",
    "\n",
    "def plot_history(history, model_name):\n",
    "    plt.figure(figsize=(12, 4))\n",
    "\n",
    "    # Accuracy plot\n",
    "    plt.subplot(1, 2, 1)\n",
    "    plt.plot(smooth_curve(history.history['accuracy']), label='Train Accuracy')\n",
    "    plt.plot(smooth_curve(history.history['val_accuracy']), label='Validation Accuracy')\n",
    "    plt.title(f'{model_name} Accuracy')\n",
    "    plt.xlabel('Epochs')\n",
    "    plt.ylabel('Accuracy')\n",
    "    plt.legend()\n",
    "\n",
    "    # Loss plot\n",
    "    plt.subplot(1, 2, 2)\n",
    "    plt.plot(smooth_curve(history.history['loss']), label='Train Loss')\n",
    "    plt.plot(smooth_curve(history.history['val_loss']), label='Validation Loss')\n",
    "    plt.title(f'{model_name} Loss')\n",
    "    plt.xlabel('Epochs')\n",
    "    plt.ylabel('Loss')\n",
    "    plt.legend()\n",
    "\n",
    "    plt.show()\n",
    "\n",
    "\n",
    "# Example: Plot for ResNet50\n",
    "plot_history(resnet50_history, \"ResNet50\")"
   ]
  },
  {
   "cell_type": "code",
   "execution_count": 41,
   "id": "10be2840-038c-4e38-bb8b-17d223f9e7a5",
   "metadata": {},
   "outputs": [
    {
     "name": "stderr",
     "output_type": "stream",
     "text": [
      "WARNING:absl:You are saving your model as an HDF5 file via `model.save()` or `keras.saving.save_model(model)`. This file format is considered legacy. We recommend using instead the native Keras format, e.g. `model.save('my_model.keras')` or `keras.saving.save_model(model, 'my_model.keras')`. \n",
      "WARNING:absl:Compiled the loaded model, but the compiled metrics have yet to be built. `model.compile_metrics` will be empty until you train or evaluate the model.\n"
     ]
    },
    {
     "name": "stdout",
     "output_type": "stream",
     "text": [
      "\u001b[1m1/1\u001b[0m \u001b[32m━━━━━━━━━━━━━━━━━━━━\u001b[0m\u001b[37m\u001b[0m \u001b[1m2s\u001b[0m 2s/step\n",
      "Prediction: Non-Copra\n"
     ]
    }
   ],
   "source": [
    "# Save the best model\n",
    "best_model = resnet50_model  # Replace with the model of your choice\n",
    "best_model.save('ResNet_copra_detection_model.h5')\n",
    "\n",
    "# Load the model for testing\n",
    "from tensorflow.keras.models import load_model\n",
    "from tensorflow.keras.preprocessing import image\n",
    "import numpy as np\n",
    "\n",
    "model = load_model('Resnet_copra_detection_model.h5')\n",
    "\n",
    "# Test with a single image\n",
    "test_image_path = r\"E:\\Research\\dev\\New_Dataset\\New DataSet_object\\test1.jpeg\"\n",
    "img = image.load_img(test_image_path, target_size=(224, 224))\n",
    "img_array = image.img_to_array(img) / 255.0\n",
    "img_array = np.expand_dims(img_array, axis=0)\n",
    "\n",
    "# Predict\n",
    "prediction = model.predict(img_array)\n",
    "if prediction[0][0] > 0.5:\n",
    "    print(\"Prediction: Copra\")\n",
    "else:\n",
    "    print(\"Prediction: Non-Copra\")"
   ]
  },
  {
   "cell_type": "code",
   "execution_count": null,
   "id": "18f806ff-acba-449c-b664-cc4a5b2654cf",
   "metadata": {},
   "outputs": [],
   "source": []
  }
 ],
 "metadata": {
  "kernelspec": {
   "display_name": "Python 3 (ipykernel)",
   "language": "python",
   "name": "python3"
  },
  "language_info": {
   "codemirror_mode": {
    "name": "ipython",
    "version": 3
   },
   "file_extension": ".py",
   "mimetype": "text/x-python",
   "name": "python",
   "nbconvert_exporter": "python",
   "pygments_lexer": "ipython3",
   "version": "3.9.16"
  }
 },
 "nbformat": 4,
 "nbformat_minor": 5
}
