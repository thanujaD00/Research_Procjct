{
 "cells": [
  {
   "cell_type": "code",
   "execution_count": 76,
   "metadata": {},
   "outputs": [
    {
     "ename": "",
     "evalue": "",
     "output_type": "error",
     "traceback": [
      "\u001b[1;31mRunning cells with 'Python 3.11.1' requires the ipykernel package.\n",
      "\u001b[1;31mRun the following command to install 'ipykernel' into the Python environment. \n",
      "\u001b[1;31mCommand: 'c:/Users/sadee/AppData/Local/Programs/Python/Python311/python.exe -m pip install ipykernel -U --user --force-reinstall'"
     ]
    }
   ],
   "source": [
    "import pandas as pd\n",
    "from sklearn.model_selection import train_test_split\n",
    "from sklearn.ensemble import RandomForestClassifier\n",
    "from sklearn.tree import DecisionTreeClassifier\n",
    "from sklearn.linear_model import LogisticRegression\n",
    "from sklearn.metrics import accuracy_score, classification_report, confusion_matrix\n",
    "import matplotlib.pyplot as plt\n",
    "import seaborn as sns\n",
    "import numpy as np\n",
    "import joblib"
   ]
  },
  {
   "cell_type": "code",
   "execution_count": 77,
   "metadata": {},
   "outputs": [],
   "source": [
    "# Load the dataset\n",
    "df = pd.read_csv('coconut_irrigation_data_with_water_level_8.csv')"
   ]
  },
  {
   "cell_type": "code",
   "execution_count": null,
   "metadata": {},
   "outputs": [],
   "source": [
    "df.head(2)"
   ]
  },
  {
   "cell_type": "code",
   "execution_count": 79,
   "metadata": {},
   "outputs": [],
   "source": [
    "# Convert Water Level (liters) to range categories\n",
    "def categorize_water_level(water_level):\n",
    "    if 50 <= water_level <= 100:\n",
    "        return 1  # High water need\n",
    "    elif 30 <= water_level < 50:\n",
    "        return 2  # Moderate water need\n",
    "    elif 10 <= water_level < 30:\n",
    "        return 3  # Low water need\n",
    "    else:\n",
    "        return 0  # No water needed or out of defined range"
   ]
  },
  {
   "cell_type": "code",
   "execution_count": 80,
   "metadata": {},
   "outputs": [],
   "source": [
    "# Apply the categorization function to the Water Level column\n",
    "df['Water Level Category'] = df['Water Level (liters)'].apply(categorize_water_level)"
   ]
  },
  {
   "cell_type": "code",
   "execution_count": 81,
   "metadata": {},
   "outputs": [],
   "source": [
    "Water_Level_Category_counts = df['Water Level Category'].value_counts()"
   ]
  },
  {
   "cell_type": "code",
   "execution_count": 83,
   "metadata": {},
   "outputs": [],
   "source": [
    "# Prepare the features and target variable\n",
    "X = df.drop(['Date','Rainfall (mm)' ,'Irrigation Status (0/1)' ,'Water Level (liters)','Water Level Category'], axis=1)  # Features\n",
    "y = df['Water Level Category']                           # Target variable\n",
    "\n",
    "# # Split the dataset into training and testing sets\n",
    "# X_train, X_test, y_train, y_test = train_test_split(X, y, test_size=0.2, random_state=42)"
   ]
  },
  {
   "cell_type": "code",
   "execution_count": 84,
   "metadata": {},
   "outputs": [],
   "source": [
    "from imblearn.over_sampling import SMOTE\n",
    "\n",
    "smote = SMOTE(sampling_strategy='auto')\n",
    "X_resampled, y_resampled = smote.fit_resample(X, y)"
   ]
  },
  {
   "cell_type": "code",
   "execution_count": 85,
   "metadata": {},
   "outputs": [],
   "source": [
    "X_train, X_test, y_train, y_test = train_test_split(X_resampled, y_resampled, test_size=0.2, random_state=42)"
   ]
  },
  {
   "cell_type": "code",
   "execution_count": 86,
   "metadata": {},
   "outputs": [],
   "source": [
    "# Function to evaluate and print model results\n",
    "def evaluate_model(model):\n",
    "    model.fit(X_train, y_train)  # Train the model\n",
    "    y_pred = model.predict(X_test)  # Make predictions\n",
    "\n",
    "    # Print evaluation metrics\n",
    "    print(f\"Model: {model.__class__.__name__}\")\n",
    "    print(\"Accuracy:\", accuracy_score(y_test, y_pred))\n",
    "    print(classification_report(y_test, y_pred))\n",
    "\n",
    "    # Plot confusion matrix\n",
    "    plt.figure(figsize=(6, 4))\n",
    "    sns.heatmap(confusion_matrix(y_test, y_pred), annot=True, fmt='d', cmap='Blues', \n",
    "                 xticklabels=['0', '1','2','3'], \n",
    "                 yticklabels=['0', '1','2','3'])\n",
    "    plt.title(f'Confusion Matrix - {model.__class__.__name__}')\n",
    "    plt.xlabel('Predicted')\n",
    "    plt.ylabel('Actual')\n",
    "    plt.show()\n",
    "    \n",
    "    # Export the model\n",
    "    model_filename = f\"{model.__class__.__name__.lower()}water_model.pkl\"\n",
    "    joblib.dump(model, model_filename)\n",
    "    print(f\"Model exported as: {model_filename}\")"
   ]
  },
  {
   "cell_type": "code",
   "execution_count": null,
   "metadata": {},
   "outputs": [],
   "source": [
    "# Create and evaluate models\n",
    "models = [\n",
    "    RandomForestClassifier( random_state=42),\n",
    "    DecisionTreeClassifier(random_state=42),\n",
    "    LogisticRegression(max_iter=200, random_state=42)\n",
    "]\n",
    "\n",
    "for model in models:\n",
    "    evaluate_model(model)\n"
   ]
  },
  {
   "cell_type": "code",
   "execution_count": 88,
   "metadata": {},
   "outputs": [],
   "source": [
    "# Load the model and make predictions on new data\n",
    "def load_model_and_predict(model_filename, new_data):\n",
    "    # Load the model\n",
    "    model = joblib.load(model_filename)\n",
    "    \n",
    "    # Make predictions\n",
    "    predictions = model.predict(new_data)\n",
    "    return predictions\n"
   ]
  },
  {
   "cell_type": "code",
   "execution_count": null,
   "metadata": {},
   "outputs": [],
   "source": [
    "df.head(2)"
   ]
  },
  {
   "cell_type": "code",
   "execution_count": 98,
   "metadata": {},
   "outputs": [],
   "source": [
    "# Generate new data\n",
    "new_data = pd.DataFrame({\n",
    "    'Soil Moisture (10 cm) (%)': [14.477],\n",
    "    'Soil Moisture (20 cm) (%)': [24.64],\n",
    "    'Soil Moisture (30 cm) (%)': [36.25],\n",
    "    'Plant Age (years)': [5],\n",
    "    'Temperature (°C)': [28.3],\n",
    "    'Humidity (%)': [72.52],\n",
    "    'Rain Status (0/1)': [0], \n",
    "})"
   ]
  },
  {
   "cell_type": "code",
   "execution_count": null,
   "metadata": {},
   "outputs": [],
   "source": [
    "predictions = load_model_and_predict('randomforestclassifierwater_model.pkl', new_data)\n",
    "predictions"
   ]
  },
  {
   "cell_type": "code",
   "execution_count": 96,
   "metadata": {},
   "outputs": [],
   "source": [
    "# Convert range categories to Water Level (liters) range as a string\n",
    "def get_water_level_range_string_from_category(category):\n",
    "    if category == 1:\n",
    "        return \"50 - 100 (High water need)\"  # High water need\n",
    "    elif category == 2:\n",
    "        return \"30 - 50 (Moderate water need)\"  # Moderate water need\n",
    "    elif category == 3:\n",
    "        return \"10 - 30 (Low water need)\"  # Low water need\n",
    "    elif category == 0:\n",
    "        return \"0 - 0 (No water needed)\"  # No water needed\n",
    "    else:\n",
    "        raise ValueError(\"Invalid category. Must be 0, 1, 2, or 3.\")\n"
   ]
  },
  {
   "cell_type": "code",
   "execution_count": null,
   "metadata": {},
   "outputs": [],
   "source": [
    "prediction = get_water_level_range_string_from_category(predictions[0])\n",
    "prediction"
   ]
  }
 ],
 "metadata": {
  "kernelspec": {
   "display_name": "Python 3",
   "language": "python",
   "name": "python3"
  },
  "language_info": {
   "codemirror_mode": {
    "name": "ipython",
    "version": 3
   },
   "file_extension": ".py",
   "mimetype": "text/x-python",
   "name": "python",
   "nbconvert_exporter": "python",
   "pygments_lexer": "ipython3",
   "version": "3.11.1"
  }
 },
 "nbformat": 4,
 "nbformat_minor": 2
}
