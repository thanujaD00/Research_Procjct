{
 "cells": [
  {
   "cell_type": "code",
   "execution_count": 19,
   "metadata": {},
   "outputs": [],
   "source": [
    "import pandas as pd\n",
    "from sklearn.model_selection import train_test_split\n",
    "from sklearn.ensemble import RandomForestClassifier\n",
    "from sklearn.tree import DecisionTreeClassifier\n",
    "from sklearn.linear_model import LogisticRegression\n",
    "from sklearn.metrics import accuracy_score, classification_report, confusion_matrix\n",
    "import matplotlib.pyplot as plt\n",
    "import seaborn as sns\n",
    "import numpy as np\n",
    "import joblib"
   ]
  },
  {
   "cell_type": "code",
   "execution_count": 20,
   "metadata": {},
   "outputs": [],
   "source": [
    "# Load the dataset\n",
    "df = pd.read_csv('coconut_irrigation_data_with_water_level_8.csv')"
   ]
  },
  {
   "cell_type": "code",
   "execution_count": 21,
   "metadata": {},
   "outputs": [
    {
     "data": {
      "text/html": [
       "<div>\n",
       "<style scoped>\n",
       "    .dataframe tbody tr th:only-of-type {\n",
       "        vertical-align: middle;\n",
       "    }\n",
       "\n",
       "    .dataframe tbody tr th {\n",
       "        vertical-align: top;\n",
       "    }\n",
       "\n",
       "    .dataframe thead th {\n",
       "        text-align: right;\n",
       "    }\n",
       "</style>\n",
       "<table border=\"1\" class=\"dataframe\">\n",
       "  <thead>\n",
       "    <tr style=\"text-align: right;\">\n",
       "      <th></th>\n",
       "      <th>Date</th>\n",
       "      <th>Soil Moisture (10 cm) (%)</th>\n",
       "      <th>Soil Moisture (20 cm) (%)</th>\n",
       "      <th>Soil Moisture (30 cm) (%)</th>\n",
       "      <th>Plant Age (years)</th>\n",
       "      <th>Temperature (°C)</th>\n",
       "      <th>Humidity (%)</th>\n",
       "      <th>Rainfall (mm)</th>\n",
       "      <th>Rain Status (0/1)</th>\n",
       "      <th>Irrigation Status (0/1)</th>\n",
       "      <th>Water Level (liters)</th>\n",
       "    </tr>\n",
       "  </thead>\n",
       "  <tbody>\n",
       "    <tr>\n",
       "      <th>0</th>\n",
       "      <td>2010-11-01</td>\n",
       "      <td>39.305028</td>\n",
       "      <td>34.187018</td>\n",
       "      <td>50.940124</td>\n",
       "      <td>6</td>\n",
       "      <td>32.752079</td>\n",
       "      <td>69.117342</td>\n",
       "      <td>0.0</td>\n",
       "      <td>0</td>\n",
       "      <td>0</td>\n",
       "      <td>18.835983</td>\n",
       "    </tr>\n",
       "    <tr>\n",
       "      <th>1</th>\n",
       "      <td>2019-01-18</td>\n",
       "      <td>27.621755</td>\n",
       "      <td>40.963801</td>\n",
       "      <td>38.589987</td>\n",
       "      <td>6</td>\n",
       "      <td>32.752079</td>\n",
       "      <td>69.117342</td>\n",
       "      <td>0.0</td>\n",
       "      <td>0</td>\n",
       "      <td>1</td>\n",
       "      <td>45.211560</td>\n",
       "    </tr>\n",
       "  </tbody>\n",
       "</table>\n",
       "</div>"
      ],
      "text/plain": [
       "         Date  Soil Moisture (10 cm) (%)  Soil Moisture (20 cm) (%)  \\\n",
       "0  2010-11-01                  39.305028                  34.187018   \n",
       "1  2019-01-18                  27.621755                  40.963801   \n",
       "\n",
       "   Soil Moisture (30 cm) (%)  Plant Age (years)  Temperature (°C)  \\\n",
       "0                  50.940124                  6         32.752079   \n",
       "1                  38.589987                  6         32.752079   \n",
       "\n",
       "   Humidity (%)  Rainfall (mm)  Rain Status (0/1)  Irrigation Status (0/1)  \\\n",
       "0     69.117342            0.0                  0                        0   \n",
       "1     69.117342            0.0                  0                        1   \n",
       "\n",
       "   Water Level (liters)  \n",
       "0             18.835983  \n",
       "1             45.211560  "
      ]
     },
     "execution_count": 21,
     "metadata": {},
     "output_type": "execute_result"
    }
   ],
   "source": [
    "df.head(2)"
   ]
  },
  {
   "cell_type": "code",
   "execution_count": 22,
   "metadata": {},
   "outputs": [],
   "source": [
    "# Convert Water Level (liters) to range categories\n",
    "def categorize_water_level(water_level):\n",
    "    if 50 <= water_level <= 100:\n",
    "        return 1  # High water need\n",
    "    elif 30 <= water_level < 50:\n",
    "        return 2  # Moderate water need\n",
    "    elif 10 <= water_level < 30:\n",
    "        return 3  # Low water need\n",
    "    else:\n",
    "        return 0  # No water needed or out of defined range"
   ]
  },
  {
   "cell_type": "code",
   "execution_count": 23,
   "metadata": {},
   "outputs": [],
   "source": [
    "# Apply the categorization function to the Water Level column\n",
    "df['Water Level Category'] = df['Water Level (liters)'].apply(categorize_water_level)"
   ]
  },
  {
   "cell_type": "code",
   "execution_count": 24,
   "metadata": {},
   "outputs": [],
   "source": [
    "Water_Level_Category_counts = df['Water Level Category'].value_counts()"
   ]
  },
  {
   "cell_type": "code",
   "execution_count": 25,
   "metadata": {},
   "outputs": [],
   "source": [
    "# Prepare the features and target variable\n",
    "X = df.drop(['Date','Rainfall (mm)' ,'Irrigation Status (0/1)' ,'Water Level (liters)','Water Level Category'], axis=1)  # Features\n",
    "y = df['Water Level Category']                           # Target variable\n",
    "\n",
    "# # Split the dataset into training and testing sets\n",
    "# X_train, X_test, y_train, y_test = train_test_split(X, y, test_size=0.2, random_state=42)"
   ]
  },
  {
   "cell_type": "code",
   "execution_count": 26,
   "metadata": {},
   "outputs": [],
   "source": [
    "from imblearn.over_sampling import SMOTE\n",
    "\n",
    "smote = SMOTE(sampling_strategy='auto')\n",
    "X_resampled, y_resampled = smote.fit_resample(X, y)"
   ]
  },
  {
   "cell_type": "code",
   "execution_count": 27,
   "metadata": {},
   "outputs": [],
   "source": [
    "X_train, X_test, y_train, y_test = train_test_split(X_resampled, y_resampled, test_size=0.2, random_state=42)"
   ]
  },
  {
   "cell_type": "code",
   "execution_count": 28,
   "metadata": {},
   "outputs": [],
   "source": [
    "# Function to evaluate and print model results\n",
    "def evaluate_model(model):\n",
    "    model.fit(X_train, y_train)  # Train the model\n",
    "    y_pred = model.predict(X_test)  # Make predictions\n",
    "\n",
    "    # Print evaluation metrics\n",
    "    print(f\"Model: {model.__class__.__name__}\")\n",
    "    print(\"Accuracy:\", accuracy_score(y_test, y_pred))\n",
    "    print(classification_report(y_test, y_pred))\n",
    "\n",
    "    # Plot confusion matrix\n",
    "    plt.figure(figsize=(6, 4))\n",
    "    sns.heatmap(confusion_matrix(y_test, y_pred), annot=True, fmt='d', cmap='Blues', \n",
    "                 xticklabels=['0', '1','2','3'], \n",
    "                 yticklabels=['0', '1','2','3'])\n",
    "    plt.title(f'Confusion Matrix - {model.__class__.__name__}')\n",
    "    plt.xlabel('Predicted')\n",
    "    plt.ylabel('Actual')\n",
    "    plt.show()\n",
    "    \n",
    "    # Export the model\n",
    "    model_filename = f\"{model.__class__.__name__.lower()}water_model.pkl\"\n",
    "    joblib.dump(model, model_filename)\n",
    "    print(f\"Model exported as: {model_filename}\")"
   ]
  },
  {
   "cell_type": "code",
   "execution_count": 29,
   "metadata": {},
   "outputs": [
    {
     "name": "stdout",
     "output_type": "stream",
     "text": [
      "Model: RandomForestClassifier\n",
      "Accuracy: 0.8947084233261339\n",
      "              precision    recall  f1-score   support\n",
      "\n",
      "           0       0.99      0.95      0.97       476\n",
      "           1       0.87      0.86      0.86       432\n",
      "           2       0.82      0.82      0.82       474\n",
      "           3       0.90      0.94      0.92       470\n",
      "\n",
      "    accuracy                           0.89      1852\n",
      "   macro avg       0.89      0.89      0.89      1852\n",
      "weighted avg       0.90      0.89      0.89      1852\n",
      "\n"
     ]
    },
    {
     "data": {
      "image/png": "[encoded data removed]",
      "text/plain": [
       "<Figure size 600x400 with 2 Axes>"
      ]
     },
     "metadata": {},
     "output_type": "display_data"
    },
    {
     "name": "stdout",
     "output_type": "stream",
     "text": [
      "Model exported as: randomforestclassifierwater_model.pkl\n",
      "Model: DecisionTreeClassifier\n",
      "Accuracy: 0.8390928725701944\n",
      "              precision    recall  f1-score   support\n",
      "\n",
      "           0       0.96      0.95      0.95       476\n",
      "           1       0.81      0.81      0.81       432\n",
      "           2       0.74      0.74      0.74       474\n",
      "           3       0.85      0.86      0.86       470\n",
      "\n",
      "    accuracy                           0.84      1852\n",
      "   macro avg       0.84      0.84      0.84      1852\n",
      "weighted avg       0.84      0.84      0.84      1852\n",
      "\n"
     ]
    },
    {
     "data": {
      "image/png": "[encoded data removed]",
      "text/plain": [
       "<Figure size 600x400 with 2 Axes>"
      ]
     },
     "metadata": {},
     "output_type": "display_data"
    },
    {
     "name": "stdout",
     "output_type": "stream",
     "text": [
      "Model exported as: decisiontreeclassifierwater_model.pkl\n"
     ]
    },
    {
     "name": "stderr",
     "output_type": "stream",
     "text": [
      "c:\\Users\\sadee\\AppData\\Local\\Programs\\Python\\Python311\\Lib\\site-packages\\sklearn\\linear_model\\_logistic.py:469: ConvergenceWarning: lbfgs failed to converge (status=1):\n",
      "STOP: TOTAL NO. of ITERATIONS REACHED LIMIT.\n",
      "\n",
      "Increase the number of iterations (max_iter) or scale the data as shown in:\n",
      "    https://scikit-learn.org/stable/modules/preprocessing.html\n",
      "Please also refer to the documentation for alternative solver options:\n",
      "    https://scikit-learn.org/stable/modules/linear_model.html#logistic-regression\n",
      "  n_iter_i = _check_optimize_result(\n"
     ]
    },
    {
     "name": "stdout",
     "output_type": "stream",
     "text": [
      "Model: LogisticRegression\n",
      "Accuracy: 0.8023758099352052\n",
      "              precision    recall  f1-score   support\n",
      "\n",
      "           0       1.00      0.89      0.94       476\n",
      "           1       0.79      0.82      0.81       432\n",
      "           2       0.68      0.66      0.67       474\n",
      "           3       0.76      0.84      0.80       470\n",
      "\n",
      "    accuracy                           0.80      1852\n",
      "   macro avg       0.81      0.80      0.80      1852\n",
      "weighted avg       0.81      0.80      0.80      1852\n",
      "\n"
     ]
    },
    {
     "data": {
      "image/png": "[encoded data removed]",
      "text/plain": [
       "<Figure size 600x400 with 2 Axes>"
      ]
     },
     "metadata": {},
     "output_type": "display_data"
    },
    {
     "name": "stdout",
     "output_type": "stream",
     "text": [
      "Model exported as: logisticregressionwater_model.pkl\n"
     ]
    }
   ],
   "source": [
    "# Create and evaluate models\n",
    "models = [\n",
    "    RandomForestClassifier( random_state=42),\n",
    "    DecisionTreeClassifier(random_state=42),\n",
    "    LogisticRegression(max_iter=200, random_state=42)\n",
    "]\n",
    "\n",
    "for model in models:\n",
    "    evaluate_model(model)\n"
   ]
  },
  {
   "cell_type": "code",
   "execution_count": 30,
   "metadata": {},
   "outputs": [],
   "source": [
    "# Load the model and make predictions on new data\n",
    "def load_model_and_predict(model_filename, new_data):\n",
    "    # Load the model\n",
    "    model = joblib.load(model_filename)\n",
    "    \n",
    "    # Make predictions\n",
    "    predictions = model.predict(new_data)\n",
    "    return predictions\n"
   ]
  },
  {
   "cell_type": "code",
   "execution_count": 31,
   "metadata": {},
   "outputs": [
    {
     "data": {
      "text/html": [
       "<div>\n",
       "<style scoped>\n",
       "    .dataframe tbody tr th:only-of-type {\n",
       "        vertical-align: middle;\n",
       "    }\n",
       "\n",
       "    .dataframe tbody tr th {\n",
       "        vertical-align: top;\n",
       "    }\n",
       "\n",
       "    .dataframe thead th {\n",
       "        text-align: right;\n",
       "    }\n",
       "</style>\n",
       "<table border=\"1\" class=\"dataframe\">\n",
       "  <thead>\n",
       "    <tr style=\"text-align: right;\">\n",
       "      <th></th>\n",
       "      <th>Date</th>\n",
       "      <th>Soil Moisture (10 cm) (%)</th>\n",
       "      <th>Soil Moisture (20 cm) (%)</th>\n",
       "      <th>Soil Moisture (30 cm) (%)</th>\n",
       "      <th>Plant Age (years)</th>\n",
       "      <th>Temperature (°C)</th>\n",
       "      <th>Humidity (%)</th>\n",
       "      <th>Rainfall (mm)</th>\n",
       "      <th>Rain Status (0/1)</th>\n",
       "      <th>Irrigation Status (0/1)</th>\n",
       "      <th>Water Level (liters)</th>\n",
       "      <th>Water Level Category</th>\n",
       "    </tr>\n",
       "  </thead>\n",
       "  <tbody>\n",
       "    <tr>\n",
       "      <th>0</th>\n",
       "      <td>2010-11-01</td>\n",
       "      <td>39.305028</td>\n",
       "      <td>34.187018</td>\n",
       "      <td>50.940124</td>\n",
       "      <td>6</td>\n",
       "      <td>32.752079</td>\n",
       "      <td>69.117342</td>\n",
       "      <td>0.0</td>\n",
       "      <td>0</td>\n",
       "      <td>0</td>\n",
       "      <td>18.835983</td>\n",
       "      <td>3</td>\n",
       "    </tr>\n",
       "    <tr>\n",
       "      <th>1</th>\n",
       "      <td>2019-01-18</td>\n",
       "      <td>27.621755</td>\n",
       "      <td>40.963801</td>\n",
       "      <td>38.589987</td>\n",
       "      <td>6</td>\n",
       "      <td>32.752079</td>\n",
       "      <td>69.117342</td>\n",
       "      <td>0.0</td>\n",
       "      <td>0</td>\n",
       "      <td>1</td>\n",
       "      <td>45.211560</td>\n",
       "      <td>2</td>\n",
       "    </tr>\n",
       "  </tbody>\n",
       "</table>\n",
       "</div>"
      ],
      "text/plain": [
       "         Date  Soil Moisture (10 cm) (%)  Soil Moisture (20 cm) (%)  \\\n",
       "0  2010-11-01                  39.305028                  34.187018   \n",
       "1  2019-01-18                  27.621755                  40.963801   \n",
       "\n",
       "   Soil Moisture (30 cm) (%)  Plant Age (years)  Temperature (°C)  \\\n",
       "0                  50.940124                  6         32.752079   \n",
       "1                  38.589987                  6         32.752079   \n",
       "\n",
       "   Humidity (%)  Rainfall (mm)  Rain Status (0/1)  Irrigation Status (0/1)  \\\n",
       "0     69.117342            0.0                  0                        0   \n",
       "1     69.117342            0.0                  0                        1   \n",
       "\n",
       "   Water Level (liters)  Water Level Category  \n",
       "0             18.835983                     3  \n",
       "1             45.211560                     2  "
      ]
     },
     "execution_count": 31,
     "metadata": {},
     "output_type": "execute_result"
    }
   ],
   "source": [
    "df.head(2)"
   ]
  },
  {
   "cell_type": "code",
   "execution_count": 32,
   "metadata": {},
   "outputs": [],
   "source": [
    "# Generate new data\n",
    "new_data = pd.DataFrame({\n",
    "    'Soil Moisture (10 cm) (%)': [14.477],\n",
    "    'Soil Moisture (20 cm) (%)': [24.64],\n",
    "    'Soil Moisture (30 cm) (%)': [36.25],\n",
    "    'Plant Age (years)': [5],\n",
    "    'Temperature (°C)': [28.3],\n",
    "    'Humidity (%)': [72.52],\n",
    "    'Rain Status (0/1)': [0], \n",
    "})"
   ]
  },
  {
   "cell_type": "code",
   "execution_count": 33,
   "metadata": {},
   "outputs": [
    {
     "data": {
      "text/plain": [
       "array([1])"
      ]
     },
     "execution_count": 33,
     "metadata": {},
     "output_type": "execute_result"
    }
   ],
   "source": [
    "predictions = load_model_and_predict('randomforestclassifierwater_model.pkl', new_data)\n",
    "predictions"
   ]
  },
  {
   "cell_type": "code",
   "execution_count": 34,
   "metadata": {},
   "outputs": [],
   "source": [
    "# Convert range categories to Water Level (liters) range as a string\n",
    "def get_water_level_range_string_from_category(category):\n",
    "    if category == 1:\n",
    "        return \"50 - 100 (High water need)\"  # High water need\n",
    "    elif category == 2:\n",
    "        return \"30 - 50 (Moderate water need)\"  # Moderate water need\n",
    "    elif category == 3:\n",
    "        return \"10 - 30 (Low water need)\"  # Low water need\n",
    "    elif category == 0:\n",
    "        return \"0 - 0 (No water needed)\"  # No water needed\n",
    "    else:\n",
    "        raise ValueError(\"Invalid category. Must be 0, 1, 2, or 3.\")\n"
   ]
  },
  {
   "cell_type": "code",
   "execution_count": 35,
   "metadata": {},
   "outputs": [
    {
     "data": {
      "text/plain": [
       "'50 - 100 (High water need)'"
      ]
     },
     "execution_count": 35,
     "metadata": {},
     "output_type": "execute_result"
    }
   ],
   "source": [
    "prediction = get_water_level_range_string_from_category(predictions[0])\n",
    "prediction"
   ]
  }
 ],
 "metadata": {
  "kernelspec": {
   "display_name": "Python 3",
   "language": "python",
   "name": "python3"
  },
  "language_info": {
   "codemirror_mode": {
    "name": "ipython",
    "version": 3
   },
   "file_extension": ".py",
   "mimetype": "text/x-python",
   "name": "python",
   "nbconvert_exporter": "python",
   "pygments_lexer": "ipython3",
   "version": "3.11.0"
  }
 },
 "nbformat": 4,
 "nbformat_minor": 2
}
