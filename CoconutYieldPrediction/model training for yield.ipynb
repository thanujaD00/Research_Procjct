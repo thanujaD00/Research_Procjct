{
 "cells": [
  {
   "cell_type": "code",
   "execution_count": 1,
   "metadata": {},
   "outputs": [],
   "source": [
    "import pandas as pd\n",
    "import numpy as np\n",
    "from sklearn.model_selection import train_test_split, cross_val_score\n",
    "from sklearn.ensemble import RandomForestRegressor, GradientBoostingRegressor\n",
    "from sklearn.metrics import mean_absolute_error, r2_score, mean_squared_error\n",
    "from sklearn.svm import SVR\n",
    "from xgboost import XGBRegressor\n",
    "from sklearn.preprocessing import StandardScaler\n",
    "from sklearn.neural_network import MLPRegressor\n",
    "import joblib"
   ]
  },
  {
   "cell_type": "code",
   "execution_count": 2,
   "metadata": {},
   "outputs": [
    {
     "data": {
      "text/html": [
       "<div>\n",
       "<style scoped>\n",
       "    .dataframe tbody tr th:only-of-type {\n",
       "        vertical-align: middle;\n",
       "    }\n",
       "\n",
       "    .dataframe tbody tr th {\n",
       "        vertical-align: top;\n",
       "    }\n",
       "\n",
       "    .dataframe thead th {\n",
       "        text-align: right;\n",
       "    }\n",
       "</style>\n",
       "<table border=\"1\" class=\"dataframe\">\n",
       "  <thead>\n",
       "    <tr style=\"text-align: right;\">\n",
       "      <th></th>\n",
       "      <th>Date</th>\n",
       "      <th>Soil Moisture (10 cm) (%)</th>\n",
       "      <th>Soil Moisture (20 cm) (%)</th>\n",
       "      <th>Soil Moisture (30 cm) (%)</th>\n",
       "      <th>Plant Age (years)</th>\n",
       "      <th>Temperature (°C)</th>\n",
       "      <th>Humidity (%)</th>\n",
       "      <th>Rainfall (mm)</th>\n",
       "      <th>Rain Status (0/1)</th>\n",
       "      <th>Coconut Count</th>\n",
       "    </tr>\n",
       "  </thead>\n",
       "  <tbody>\n",
       "    <tr>\n",
       "      <th>0</th>\n",
       "      <td>1930-05-31</td>\n",
       "      <td>19.176048</td>\n",
       "      <td>25.028576</td>\n",
       "      <td>26.283500</td>\n",
       "      <td>5</td>\n",
       "      <td>28.567321</td>\n",
       "      <td>70.670239</td>\n",
       "      <td>11.748676</td>\n",
       "      <td>1</td>\n",
       "      <td>329</td>\n",
       "    </tr>\n",
       "    <tr>\n",
       "      <th>1</th>\n",
       "      <td>1930-06-30</td>\n",
       "      <td>26.159216</td>\n",
       "      <td>45.926485</td>\n",
       "      <td>44.534909</td>\n",
       "      <td>4</td>\n",
       "      <td>27.697496</td>\n",
       "      <td>61.141737</td>\n",
       "      <td>8.014426</td>\n",
       "      <td>1</td>\n",
       "      <td>298</td>\n",
       "    </tr>\n",
       "  </tbody>\n",
       "</table>\n",
       "</div>"
      ],
      "text/plain": [
       "         Date  Soil Moisture (10 cm) (%)  Soil Moisture (20 cm) (%)  \\\n",
       "0  1930-05-31                  19.176048                  25.028576   \n",
       "1  1930-06-30                  26.159216                  45.926485   \n",
       "\n",
       "   Soil Moisture (30 cm) (%)  Plant Age (years)  Temperature (°C)  \\\n",
       "0                  26.283500                  5         28.567321   \n",
       "1                  44.534909                  4         27.697496   \n",
       "\n",
       "   Humidity (%)  Rainfall (mm)  Rain Status (0/1)  Coconut Count  \n",
       "0     70.670239      11.748676                  1            329  \n",
       "1     61.141737       8.014426                  1            298  "
      ]
     },
     "execution_count": 2,
     "metadata": {},
     "output_type": "execute_result"
    }
   ],
   "source": [
    "# Load the dataset\n",
    "df = pd.read_csv('seasonal_coconut_yield_data_4.csv')\n",
    "df.head(2)"
   ]
  },
  {
   "cell_type": "code",
   "execution_count": 3,
   "metadata": {},
   "outputs": [],
   "source": [
    "X = df.drop(['Date','Rain Status (0/1)','Coconut Count'], axis=1) \n",
    "y = df['Coconut Count']"
   ]
  },
  {
   "cell_type": "code",
   "execution_count": 4,
   "metadata": {},
   "outputs": [],
   "source": [
    "X_train, X_test, y_train, y_test = train_test_split(X, y, test_size=0.2, random_state=42)"
   ]
  },
  {
   "cell_type": "code",
   "execution_count": 5,
   "metadata": {},
   "outputs": [],
   "source": [
    "# Initialize models\n",
    "models = {\n",
    "   'Random Forest': RandomForestRegressor(n_estimators=100, random_state=42),\n",
    "   'XGBoost': XGBRegressor(n_estimators=100, random_state=42),\n",
    "   'SVR': SVR(kernel='rbf', C=1.0, epsilon=0.1),\n",
    "   'ANN': MLPRegressor(hidden_layer_sizes=(100, 50), max_iter=1000, random_state=42),\n",
    "   'Gradient Boosting': GradientBoostingRegressor(n_estimators=100, random_state=42)\n",
    "}"
   ]
  },
  {
   "cell_type": "code",
   "execution_count": 6,
   "metadata": {},
   "outputs": [],
   "source": [
    "from sklearn.metrics import mean_squared_error\n",
    "\n",
    "def calculate_accuracy(y_true, y_pred):\n",
    "   mse = mean_squared_error(y_true, y_pred)\n",
    "   rmse = np.sqrt(mse)\n",
    "   accuracy = 100 * (1 - rmse / np.mean(y_true))\n",
    "   return max(0, accuracy)"
   ]
  },
  {
   "cell_type": "code",
   "execution_count": 7,
   "metadata": {},
   "outputs": [],
   "source": [
    "results = {}\n",
    "best_score = float('-inf')\n",
    "best_model = None\n",
    "\n",
    "for name, model in models.items():\n",
    "   model.fit(X_train, y_train)\n",
    "   y_pred = model.predict(X_test)\n",
    "   \n",
    "   accuracy = calculate_accuracy(y_test, y_pred)\n",
    "   r2 = r2_score(y_test, y_pred) * 100  # Convert to percentage\n",
    "   cv_scores = cross_val_score(model, X, y, cv=5, scoring='r2')\n",
    "   cv_percentage = cv_scores.mean() * 100\n",
    "   \n",
    "   results[name] = {\n",
    "       'Accuracy': accuracy,\n",
    "       'R2_Percentage': r2,\n",
    "       'CV_Accuracy': cv_percentage,\n",
    "       'CV_std': cv_scores.std() * 100\n",
    "   }\n",
    "   \n",
    "   if cv_scores.mean() > best_score:\n",
    "       best_score = cv_scores.mean()\n",
    "       best_model = model"
   ]
  },
  {
   "cell_type": "code",
   "execution_count": 8,
   "metadata": {},
   "outputs": [
    {
     "name": "stdout",
     "output_type": "stream",
     "text": [
      "Model Comparison Results:\n",
      "\n",
      "Random Forest:\n",
      "Accuracy: 88.24%\n",
      "R2 Score: -2.66%\n",
      "Cross-val R2: -6.17% (+/- 12.32%)\n",
      "\n",
      "XGBoost:\n",
      "Accuracy: 87.24%\n",
      "R2 Score: -20.83%\n",
      "Cross-val R2: -25.20% (+/- 26.09%)\n",
      "\n",
      "SVR:\n",
      "Accuracy: 88.36%\n",
      "R2 Score: -0.50%\n",
      "Cross-val R2: -0.47% (+/- 0.33%)\n",
      "\n",
      "ANN:\n",
      "Accuracy: 87.02%\n",
      "R2 Score: -25.12%\n",
      "Cross-val R2: -24.22% (+/- 12.67%)\n",
      "\n",
      "Gradient Boosting:\n",
      "Accuracy: 87.97%\n",
      "R2 Score: -7.42%\n",
      "Cross-val R2: -7.84% (+/- 7.34%)\n",
      "\n",
      "Best Model Selected: SVR\n"
     ]
    }
   ],
   "source": [
    "# Print results\n",
    "print(\"Model Comparison Results:\")\n",
    "for name, metrics in results.items():\n",
    "    print(f\"\\n{name}:\")\n",
    "    print(f\"Accuracy: {metrics['Accuracy']:.2f}%\")\n",
    "    print(f\"R2 Score: {metrics['R2_Percentage']:.2f}%\")\n",
    "    print(f\"Cross-val R2: {metrics['CV_Accuracy']:.2f}% (+/- {metrics['CV_std']*2:.2f}%)\")\n",
    "\n",
    "print(\"\\nBest Model Selected:\", \n",
    "      [name for name, model in models.items() if model == best_model][0])"
   ]
  },
  {
   "cell_type": "code",
   "execution_count": 9,
   "metadata": {},
   "outputs": [
    {
     "data": {
      "text/plain": [
       "['best_yield_predictor.pkl']"
      ]
     },
     "execution_count": 9,
     "metadata": {},
     "output_type": "execute_result"
    }
   ],
   "source": [
    "# Save the model to a file\n",
    "joblib.dump(best_model, 'best_yield_predictor.pkl')"
   ]
  },
  {
   "cell_type": "code",
   "execution_count": 12,
   "metadata": {},
   "outputs": [
    {
     "name": "stdout",
     "output_type": "stream",
     "text": [
      "\n",
      "Predicted Coconut Yield: 298.6559923103624\n"
     ]
    }
   ],
   "source": [
    "# Load the model from the file\n",
    "loaded_model = joblib.load('best_yield_predictor.pkl')\n",
    "\n",
    "# Example new input data (as a DataFrame)\n",
    "new_data = pd.DataFrame({\n",
    "    'Soil Moisture (10 cm) (%)': [19.89],\n",
    "    'Soil Moisture (20 cm) (%)': [41.67],\n",
    "    'Soil Moisture (30 cm) (%)': [34.82],\n",
    "    'Plant Age (years)':[3],\n",
    "    'Temperature (°C)':[32.68],\n",
    "    'Humidity (%)':[60.87],\n",
    "    'Rainfall (mm)':[0],  # Corrected feature name\n",
    "})\n",
    "\n",
    "# Predict the oil yield for new data\n",
    "predicted_yield = loaded_model.predict(new_data)\n",
    "print(\"\\nPredicted Coconut Yield:\", predicted_yield[0])"
   ]
  }
 ],
 "metadata": {
  "kernelspec": {
   "display_name": "Python 3",
   "language": "python",
   "name": "python3"
  },
  "language_info": {
   "codemirror_mode": {
    "name": "ipython",
    "version": 3
   },
   "file_extension": ".py",
   "mimetype": "text/x-python",
   "name": "python",
   "nbconvert_exporter": "python",
   "pygments_lexer": "ipython3",
   "version": "3.11.0"
  }
 },
 "nbformat": 4,
 "nbformat_minor": 2
}
