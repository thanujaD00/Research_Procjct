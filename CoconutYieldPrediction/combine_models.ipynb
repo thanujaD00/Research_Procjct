{
 "cells": [
  {
   "cell_type": "code",
   "execution_count": 66,
   "metadata": {},
   "outputs": [],
   "source": [
    "import pandas as pd\n",
    "import numpy as np\n",
    "import joblib\n",
    "import matplotlib.pyplot as plt\n",
    "from datetime import datetime\n",
    "import requests\n",
    "from sklearn.metrics import mean_squared_error, r2_score\n",
    "from scipy.stats import pearsonr"
   ]
  },
  {
   "cell_type": "code",
   "execution_count": 67,
   "metadata": {},
   "outputs": [],
   "source": [
    "def load_models():\n",
    "    \"\"\"\n",
    "    Load both trained models\n",
    "    \"\"\"\n",
    "    try:\n",
    "        long_term_model = joblib.load('best_yield_predictor_for_long_trem_patterns.pkl')\n",
    "        seasonal_model = joblib.load('best_yield_predictor_for_seasonal_patterns.pkl')\n",
    "        return long_term_model, seasonal_model\n",
    "    except Exception as e:\n",
    "        print(f\"Error loading models: {str(e)}\")\n",
    "        return None, None"
   ]
  },
  {
   "cell_type": "code",
   "execution_count": 68,
   "metadata": {},
   "outputs": [],
   "source": [
    "def get_weather_data(city=\"Kuliyapitiya\", api_key=\"5dd16e6569f3cdae6509d32002b9dc67\"):\n",
    "    \"\"\"\n",
    "    Get weather data from OpenWeatherMap API\n",
    "    \"\"\"\n",
    "    base_url = \"http://api.openweathermap.org/data/2.5/weather\"\n",
    "    \n",
    "    params = {\n",
    "        'q': city,\n",
    "        'appid': api_key,\n",
    "        'units': 'metric'\n",
    "    }\n",
    "    \n",
    "    try:\n",
    "        response = requests.get(base_url, params=params, timeout=10)\n",
    "        response.raise_for_status()\n",
    "        data = response.json()\n",
    "        \n",
    "        weather_data = {\n",
    "            'Temperature (°C)': data['main']['temp'],\n",
    "            'Humidity (%)': data['main']['humidity'],\n",
    "            'Rainfall (mm)': data.get('rain', {}).get('24h', 0),\n",
    "            'Weather Description': data['weather'][0]['description']\n",
    "        }\n",
    "        return weather_data, True\n",
    "            \n",
    "    except Exception as e:\n",
    "        print(f\"Error getting weather data: {str(e)}\")\n",
    "        return None, False"
   ]
  },
  {
   "cell_type": "code",
   "execution_count": 69,
   "metadata": {},
   "outputs": [],
   "source": [
    "def ensemble_predict(soil_data, weather_data=None, weights=None):\n",
    "    \"\"\"\n",
    "    Make predictions using both models and combine them\n",
    "    \"\"\"\n",
    "    long_term_model, seasonal_model = load_models()\n",
    "    \n",
    "    if long_term_model is None or seasonal_model is None:\n",
    "        return None\n",
    "        \n",
    "    if weights is None:\n",
    "        weights = (0.6, 0.4)\n",
    "        \n",
    "    if weather_data is None:\n",
    "        weather_data, success = get_weather_data()\n",
    "        if not success:\n",
    "            return None\n",
    "            \n",
    "    try:\n",
    "        # Prepare input data for long-term model\n",
    "        input_data = pd.DataFrame({\n",
    "            'Soil Moisture (10 cm) (%)': [soil_data['sm_10']],\n",
    "            'Soil Moisture (20 cm) (%)': [soil_data['sm_20']],\n",
    "            'Soil Moisture (30 cm) (%)': [soil_data['sm_30']],\n",
    "            'Plant Age (years)': [soil_data['age']],\n",
    "            'Temperature (°C)': [weather_data['Temperature (°C)']],\n",
    "            'Humidity (%)': [weather_data['Humidity (%)']],\n",
    "            'Rainfall (mm)': [weather_data['Rainfall (mm)']],\n",
    "            'Soil Type (Numeric)': [soil_data['soil_type']]\n",
    "        })\n",
    "        \n",
    "        # Get prediction from long-term model\n",
    "        long_term_pred = long_term_model.predict(input_data)[0]\n",
    "        \n",
    "        # Prepare time series data for seasonal model\n",
    "        current_date = pd.Timestamp.now()\n",
    "        ts_data = pd.DataFrame(input_data.iloc[0]).T\n",
    "        ts_data.index = [current_date]\n",
    "        \n",
    "        # Get prediction from seasonal model\n",
    "        try:\n",
    "            seasonal_pred = seasonal_model.forecast(steps=1)[0]\n",
    "        except:\n",
    "            try:\n",
    "                seasonal_pred = seasonal_model.predict(ts_data)[0]\n",
    "            except:\n",
    "                print(\"Warning: Could not get seasonal prediction, using long-term prediction instead\")\n",
    "                seasonal_pred = long_term_pred\n",
    "        \n",
    "        # Combine predictions using weighted average\n",
    "        ensemble_pred = (weights[0] * long_term_pred + weights[1] * seasonal_pred)\n",
    "        \n",
    "        # Calculate confidence score based on model agreement\n",
    "        prediction_diff = abs(long_term_pred - seasonal_pred)\n",
    "        max_diff = max(long_term_pred, seasonal_pred)\n",
    "        confidence_score = (1 - prediction_diff/max_diff) * 100 if max_diff > 0 else 100\n",
    "        \n",
    "        return {\n",
    "            'ensemble_prediction': ensemble_pred,\n",
    "            'long_term_prediction': long_term_pred,\n",
    "            'seasonal_prediction': seasonal_pred,\n",
    "            'confidence_score': confidence_score,\n",
    "            'weights': weights\n",
    "        }\n",
    "        \n",
    "    except Exception as e:\n",
    "        print(f\"Error making prediction: {str(e)}\")\n",
    "        print(f\"Error type: {type(e)}\")\n",
    "        import traceback\n",
    "        print(\"Full traceback:\")\n",
    "        traceback.print_exc()\n",
    "        return None"
   ]
  },
  {
   "cell_type": "code",
   "execution_count": 70,
   "metadata": {},
   "outputs": [
    {
     "name": "stdout",
     "output_type": "stream",
     "text": [
      "Long-term model:\n",
      "Type: <class 'sklearn.ensemble._forest.RandomForestRegressor'>\n",
      "Attributes: ['__abstractmethods__', '__annotations__', '__class__', '__delattr__', '__dict__', '__dir__', '__doc__', '__eq__', '__format__', '__ge__', '__getattribute__', '__getitem__', '__getstate__', '__gt__', '__hash__', '__init__', '__init_subclass__', '__iter__', '__le__', '__len__', '__lt__', '__module__', '__ne__', '__new__', '__reduce__', '__reduce_ex__', '__repr__', '__setattr__', '__setstate__', '__sizeof__', '__sklearn_clone__', '__slotnames__', '__str__', '__subclasshook__', '__weakref__', '_abc_impl', '_build_request_for_signature', '_check_feature_names', '_check_n_features', '_compute_oob_predictions', '_compute_partial_dependence_recursion', '_estimator_type', '_get_default_requests', '_get_metadata_request', '_get_oob_predictions', '_get_param_names', '_get_tags', '_make_estimator', '_more_tags', '_parameter_constraints', '_repr_html_', '_repr_html_inner', '_repr_mimebundle_', '_required_parameters', '_set_oob_score_and_attributes', '_validate_X_predict', '_validate_data', '_validate_estimator', '_validate_params', '_validate_y_class_weight', 'apply', 'base_estimator', 'base_estimator_', 'bootstrap', 'ccp_alpha', 'class_weight', 'criterion', 'decision_path', 'estimator', 'estimator_', 'estimator_params', 'estimators_', 'feature_importances_', 'feature_names_in_', 'fit', 'get_metadata_routing', 'get_params', 'max_depth', 'max_features', 'max_leaf_nodes', 'max_samples', 'min_impurity_decrease', 'min_samples_leaf', 'min_samples_split', 'min_weight_fraction_leaf', 'n_estimators', 'n_features_in_', 'n_jobs', 'n_outputs_', 'oob_score', 'predict', 'random_state', 'score', 'set_fit_request', 'set_params', 'set_score_request', 'verbose', 'warm_start']\n",
      "\n",
      "Seasonal model:\n",
      "Type: <class 'statsmodels.tsa.holtwinters.results.HoltWintersResultsWrapper'>\n",
      "Attributes: ['__class__', '__delattr__', '__dict__', '__dir__', '__doc__', '__eq__', '__format__', '__ge__', '__getattribute__', '__getstate__', '__gt__', '__hash__', '__init__', '__init_subclass__', '__le__', '__lt__', '__module__', '__ne__', '__new__', '__reduce__', '__reduce_ex__', '__repr__', '__setattr__', '__sizeof__', '__slotnames__', '__str__', '__subclasshook__', '__weakref__', '_aic', '_aicc', '_bic', '_data_attr', '_data_in_cache', '_fcastvalues', '_fittedfcast', '_fittedvalues', '_k', '_level', '_mle_retvals', '_model', '_optimized', '_params_formatted', '_resid', '_season', '_sse', '_transform_predict_exog', '_trend', 'aic', 'aicc', 'bic', 'data', 'fcastvalues', 'fittedfcast', 'fittedvalues', 'forecast', 'initialize', 'k', 'k_constant', 'level', 'mle_retvals', 'model', 'optimized', 'params', 'params_formatted', 'predict', 'resid', 'season', 'simulate', 'sse', 'summary', 'trend']\n"
     ]
    }
   ],
   "source": [
    "def check_models():\n",
    "    \"\"\"\n",
    "    Diagnose loaded models\n",
    "    \"\"\"\n",
    "    long_term_model, seasonal_model = load_models()\n",
    "    \n",
    "    print(\"Long-term model:\")\n",
    "    print(f\"Type: {type(long_term_model)}\")\n",
    "    print(f\"Attributes: {dir(long_term_model)}\")\n",
    "    print(\"\\nSeasonal model:\")\n",
    "    print(f\"Type: {type(seasonal_model)}\")\n",
    "    print(f\"Attributes: {dir(seasonal_model)}\")\n",
    "\n",
    "# Run diagnostics\n",
    "check_models()"
   ]
  },
  {
   "cell_type": "code",
   "execution_count": 71,
   "metadata": {},
   "outputs": [],
   "source": [
    "def plot_predictions(predictions):\n",
    "    \"\"\"\n",
    "    Visualize the predictions from both models and the ensemble\n",
    "    \"\"\"\n",
    "    plt.figure(figsize=(12, 6))\n",
    "    \n",
    "    # Create bar plot\n",
    "    models = ['Long-term Model', 'Seasonal Model', 'Ensemble Prediction']\n",
    "    values = [predictions['long_term_prediction'], \n",
    "              predictions['seasonal_prediction'],\n",
    "              predictions['ensemble_prediction']]\n",
    "    \n",
    "    bars = plt.bar(models, values)\n",
    "    \n",
    "    # Customize the plot\n",
    "    plt.title('Coconut Yield Predictions Comparison')\n",
    "    plt.ylabel('Predicted Yield')\n",
    "    plt.grid(True, alpha=0.3)\n",
    "    \n",
    "    # Add value labels on top of bars\n",
    "    for bar in bars:\n",
    "        height = bar.get_height()\n",
    "        plt.text(bar.get_x() + bar.get_width()/2., height,\n",
    "                f'{height:.1f}',\n",
    "                ha='center', va='bottom')\n",
    "    \n",
    "    # Add confidence score\n",
    "    plt.text(0.02, 0.95, f'Confidence Score: {predictions[\"confidence_score\"]:.1f}%',\n",
    "             transform=plt.gca().transAxes)\n",
    "    \n",
    "    plt.tight_layout()\n",
    "    plt.show()"
   ]
  },
  {
   "cell_type": "code",
   "execution_count": 72,
   "metadata": {},
   "outputs": [
    {
     "name": "stdout",
     "output_type": "stream",
     "text": [
      "\n",
      "Prediction Results:\n",
      "--------------------------------------------------\n",
      "Long-term Model Prediction: 304.63\n",
      "Seasonal Model Prediction: 325.16\n",
      "Ensemble Prediction: 312.84\n",
      "Confidence Score: 93.69%\n",
      "Weights Used: (0.6, 0.4)\n",
      "\n",
      "Prediction Time: 2024-12-d 17:45:46\n"
     ]
    },
    {
     "data": {
      "image/png": "[encoded data removed]",
      "text/plain": [
       "<Figure size 1200x600 with 1 Axes>"
      ]
     },
     "metadata": {},
     "output_type": "display_data"
    }
   ],
   "source": [
    "# Example input data\n",
    "soil_data = {\n",
    "    'sm_10': 19.89,  # Soil moisture at 10cm depth\n",
    "    'sm_20': 41.67,  # Soil moisture at 20cm depth\n",
    "    'sm_30': 34.82,  # Soil moisture at 30cm depth\n",
    "    'age': 3,        # Plant age in years\n",
    "    'soil_type': 2   # Sandy Loam soil type\n",
    "}\n",
    "\n",
    "# Test prediction with example data\n",
    "predictions = ensemble_predict(soil_data)\n",
    "\n",
    "if predictions:\n",
    "    print(\"\\nPrediction Results:\")\n",
    "    print(\"-\" * 50)\n",
    "    print(f\"Long-term Model Prediction: {predictions['long_term_prediction']:.2f}\")\n",
    "    print(f\"Seasonal Model Prediction: {predictions['seasonal_prediction']:.2f}\")\n",
    "    print(f\"Ensemble Prediction: {predictions['ensemble_prediction']:.2f}\")\n",
    "    print(f\"Confidence Score: {predictions['confidence_score']:.2f}%\")\n",
    "    print(f\"Weights Used: {predictions['weights']}\")\n",
    "    print(\"\\nPrediction Time:\", datetime.now().strftime(\"%Y-%m-d %H:%M:%S\"))\n",
    "    \n",
    "    # Plot the predictions\n",
    "    plot_predictions(predictions)"
   ]
  },
  {
   "cell_type": "code",
   "execution_count": 73,
   "metadata": {},
   "outputs": [
    {
     "name": "stdout",
     "output_type": "stream",
     "text": [
      "\n",
      "Testing with weights: (0.7, 0.3)\n",
      "Ensemble Prediction: 310.79\n",
      "Confidence Score: 93.69%\n",
      "\n",
      "Testing with weights: (0.5, 0.5)\n",
      "Ensemble Prediction: 314.89\n",
      "Confidence Score: 93.69%\n",
      "\n",
      "Testing with weights: (0.3, 0.7)\n",
      "Ensemble Prediction: 319.00\n",
      "Confidence Score: 93.69%\n"
     ]
    }
   ],
   "source": [
    "weight_combinations = [\n",
    "    (0.7, 0.3),  # More emphasis on long-term patterns\n",
    "    (0.5, 0.5),  # Equal weights\n",
    "    (0.3, 0.7)   # More emphasis on seasonal patterns\n",
    "]\n",
    "\n",
    "for weights in weight_combinations:\n",
    "    print(f\"\\nTesting with weights: {weights}\")\n",
    "    predictions = ensemble_predict(soil_data, weights=weights)\n",
    "    \n",
    "    if predictions:\n",
    "        print(f\"Ensemble Prediction: {predictions['ensemble_prediction']:.2f}\")\n",
    "        print(f\"Confidence Score: {predictions['confidence_score']:.2f}%\")"
   ]
  },
  {
   "cell_type": "code",
   "execution_count": 81,
   "metadata": {},
   "outputs": [
    {
     "name": "stdout",
     "output_type": "stream",
     "text": [
      "\n",
      "Ensemble model saved as 'ensemble_yield_predictor.pkl'\n",
      "<__main__.EnsembleYieldPredictor object at 0x0000015DE66D7650>\n"
     ]
    }
   ],
   "source": [
    "class EnsembleYieldPredictor:\n",
    "    def __init__(self, weights=(0.6, 0.4)):\n",
    "        self.weights = weights\n",
    "        self.long_term_model = None\n",
    "        self.seasonal_model = None\n",
    "        self.load_models()\n",
    "    \n",
    "    def load_models(self):\n",
    "        self.long_term_model, self.seasonal_model = load_models()\n",
    "    \n",
    "    def predict(self, soil_data, weather_data=None):\n",
    "        return ensemble_predict(soil_data, weather_data, self.weights)\n",
    "\n",
    "# Save the ensemble model\n",
    "ensemble_model = EnsembleYieldPredictor()\n",
    "joblib.dump(ensemble_model, 'ensemble_yield_predictor.pkl')\n",
    "print(\"\\nEnsemble model saved as 'ensemble_yield_predictor.pkl'\")\n",
    "print(ensemble_model)"
   ]
  }
 ],
 "metadata": {
  "kernelspec": {
   "display_name": "Python 3",
   "language": "python",
   "name": "python3"
  },
  "language_info": {
   "codemirror_mode": {
    "name": "ipython",
    "version": 3
   },
   "file_extension": ".py",
   "mimetype": "text/x-python",
   "name": "python",
   "nbconvert_exporter": "python",
   "pygments_lexer": "ipython3",
   "version": "3.11.0"
  }
 },
 "nbformat": 4,
 "nbformat_minor": 2
}
